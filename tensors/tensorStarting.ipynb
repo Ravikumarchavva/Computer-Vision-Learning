{
 "cells": [
  {
   "cell_type": "code",
   "execution_count": 1,
   "id": "edfea5f9-9006-4719-b83e-78ede2362377",
   "metadata": {},
   "outputs": [
    {
     "name": "stderr",
     "output_type": "stream",
     "text": [
      "2024-08-28 08:48:18.960701: E external/local_xla/xla/stream_executor/cuda/cuda_fft.cc:485] Unable to register cuFFT factory: Attempting to register factory for plugin cuFFT when one has already been registered\n",
      "2024-08-28 08:48:19.023888: E external/local_xla/xla/stream_executor/cuda/cuda_dnn.cc:8454] Unable to register cuDNN factory: Attempting to register factory for plugin cuDNN when one has already been registered\n",
      "2024-08-28 08:48:19.054600: E external/local_xla/xla/stream_executor/cuda/cuda_blas.cc:1452] Unable to register cuBLAS factory: Attempting to register factory for plugin cuBLAS when one has already been registered\n",
      "2024-08-28 08:48:19.168321: I tensorflow/core/platform/cpu_feature_guard.cc:210] This TensorFlow binary is optimized to use available CPU instructions in performance-critical operations.\n",
      "To enable the following instructions: AVX2 FMA, in other operations, rebuild TensorFlow with the appropriate compiler flags.\n",
      "WARNING: All log messages before absl::InitializeLog() is called are written to STDERR\n",
      "I0000 00:00:1724834904.799605    1053 cuda_executor.cc:1001] could not open file to read NUMA node: /sys/bus/pci/devices/0000:01:00.0/numa_node\n",
      "Your kernel may have been built without NUMA support.\n",
      "I0000 00:00:1724834904.868981    1053 cuda_executor.cc:1001] could not open file to read NUMA node: /sys/bus/pci/devices/0000:01:00.0/numa_node\n",
      "Your kernel may have been built without NUMA support.\n",
      "I0000 00:00:1724834904.869041    1053 cuda_executor.cc:1001] could not open file to read NUMA node: /sys/bus/pci/devices/0000:01:00.0/numa_node\n",
      "Your kernel may have been built without NUMA support.\n"
     ]
    }
   ],
   "source": [
    "import tensorflow as tf\n",
    "\n",
    "gpus = tf.config.experimental.list_physical_devices('GPU')\n",
    "if gpus:\n",
    "    try:\n",
    "        for gpu in gpus:\n",
    "            tf.config.experimental.set_memory_growth(gpu, True)\n",
    "    except RuntimeError as e:\n",
    "        print(e)"
   ]
  },
  {
   "cell_type": "markdown",
   "id": "9e238212-e7c6-4067-a541-80f9c0c47dfa",
   "metadata": {},
   "source": [
    "# Dimensions"
   ]
  },
  {
   "cell_type": "code",
   "execution_count": 2,
   "id": "a2591e47-bbff-44e3-8113-da4262fd2571",
   "metadata": {},
   "outputs": [
    {
     "name": "stdout",
     "output_type": "stream",
     "text": [
      "tf.Tensor(2, shape=(), dtype=int32)\n"
     ]
    },
    {
     "name": "stderr",
     "output_type": "stream",
     "text": [
      "I0000 00:00:1724834904.879898    1053 cuda_executor.cc:1001] could not open file to read NUMA node: /sys/bus/pci/devices/0000:01:00.0/numa_node\n",
      "Your kernel may have been built without NUMA support.\n",
      "I0000 00:00:1724834904.880006    1053 cuda_executor.cc:1001] could not open file to read NUMA node: /sys/bus/pci/devices/0000:01:00.0/numa_node\n",
      "Your kernel may have been built without NUMA support.\n",
      "I0000 00:00:1724834904.880043    1053 cuda_executor.cc:1001] could not open file to read NUMA node: /sys/bus/pci/devices/0000:01:00.0/numa_node\n",
      "Your kernel may have been built without NUMA support.\n",
      "I0000 00:00:1724834905.154138    1053 cuda_executor.cc:1001] could not open file to read NUMA node: /sys/bus/pci/devices/0000:01:00.0/numa_node\n",
      "Your kernel may have been built without NUMA support.\n",
      "I0000 00:00:1724834905.154307    1053 cuda_executor.cc:1001] could not open file to read NUMA node: /sys/bus/pci/devices/0000:01:00.0/numa_node\n",
      "Your kernel may have been built without NUMA support.\n",
      "2024-08-28 08:48:25.154326: I tensorflow/core/common_runtime/gpu/gpu_device.cc:2112] Could not identify NUMA node of platform GPU id 0, defaulting to 0.  Your kernel may not have been built with NUMA support.\n",
      "I0000 00:00:1724834905.154428    1053 cuda_executor.cc:1001] could not open file to read NUMA node: /sys/bus/pci/devices/0000:01:00.0/numa_node\n",
      "Your kernel may have been built without NUMA support.\n",
      "2024-08-28 08:48:25.154566: I tensorflow/core/common_runtime/gpu/gpu_device.cc:2021] Created device /job:localhost/replica:0/task:0/device:GPU:0 with 1767 MB memory:  -> device: 0, name: NVIDIA GeForce RTX 3050 Laptop GPU, pci bus id: 0000:01:00.0, compute capability: 8.6\n"
     ]
    }
   ],
   "source": [
    "zd_tensor = tf.constant(2)\n",
    "print(zd_tensor)"
   ]
  },
  {
   "cell_type": "code",
   "execution_count": 32,
   "id": "0c7f56ad-fb8a-49e1-b567-a25558f82116",
   "metadata": {},
   "outputs": [
    {
     "name": "stdout",
     "output_type": "stream",
     "text": [
      "tf.Tensor([1 2 3], shape=(3,), dtype=int32)\n"
     ]
    }
   ],
   "source": [
    "Oned_tensor = tf.constant([1,2,3])\n",
    "print(Oned_tensor)"
   ]
  },
  {
   "cell_type": "code",
   "execution_count": 4,
   "id": "4de90748-7e58-42d4-87cf-a0cfc090a655",
   "metadata": {},
   "outputs": [
    {
     "name": "stdout",
     "output_type": "stream",
     "text": [
      "tf.Tensor(\n",
      "[[1 2 3]\n",
      " [4 5 6]], shape=(2, 3), dtype=int32)\n"
     ]
    }
   ],
   "source": [
    "TwoDTensor = tf.constant([[1,2,3],[4,5,6]])\n",
    "print(TwoDTensor)"
   ]
  },
  {
   "cell_type": "code",
   "execution_count": 5,
   "id": "3ec44f30-252b-462e-b6f3-7e2b460dbf9d",
   "metadata": {},
   "outputs": [
    {
     "name": "stdout",
     "output_type": "stream",
     "text": [
      "tf.Tensor(\n",
      "[[[ 1  2  3]\n",
      "  [ 4  5  6]]\n",
      "\n",
      " [[11 12 13]\n",
      "  [14 15 16]]\n",
      "\n",
      " [[21 22 23]\n",
      "  [24 25 26]]\n",
      "\n",
      " [[31 32 33]\n",
      "  [34 35 36]]], shape=(4, 2, 3), dtype=int32)\n"
     ]
    }
   ],
   "source": [
    "ThreeDTensor = tf.constant([\n",
    "    [\n",
    "        [1,2,3],\n",
    "        [4,5,6]\n",
    "    ],\n",
    "    [\n",
    "        [11,12,13],\n",
    "        [14,15,16]\n",
    "    ],\n",
    "    [\n",
    "        [21,22,23],\n",
    "        [24,25,26]\n",
    "    ],\n",
    "    [\n",
    "        [31,32,33],\n",
    "        [34,35,36]\n",
    "    ]\n",
    "])\n",
    "print(ThreeDTensor)"
   ]
  },
  {
   "cell_type": "code",
   "execution_count": 6,
   "id": "ab689cba-627c-4305-80a4-d03d97e32359",
   "metadata": {},
   "outputs": [
    {
     "name": "stdout",
     "output_type": "stream",
     "text": [
      "tf.Tensor(\n",
      "[[[[ 1  2  3]\n",
      "   [ 4  5  6]]\n",
      "\n",
      "  [[11 12 13]\n",
      "   [14 15 16]]\n",
      "\n",
      "  [[21 22 23]\n",
      "   [24 25 26]]\n",
      "\n",
      "  [[31 32 33]\n",
      "   [34 35 36]]]\n",
      "\n",
      "\n",
      " [[[ 1  2  3]\n",
      "   [ 4  5  6]]\n",
      "\n",
      "  [[11 12 13]\n",
      "   [14 15 16]]\n",
      "\n",
      "  [[21 22 23]\n",
      "   [24 25 26]]\n",
      "\n",
      "  [[31 32 33]\n",
      "   [34 35 36]]]], shape=(2, 4, 2, 3), dtype=int32)\n"
     ]
    }
   ],
   "source": [
    "FourDTensor = tf.constant([\n",
    "    [[\n",
    "        [1,2,3],\n",
    "        [4,5,6]\n",
    "    ],\n",
    "    [\n",
    "        [11,12,13],\n",
    "        [14,15,16]\n",
    "    ],\n",
    "    [\n",
    "        [21,22,23],\n",
    "        [24,25,26]\n",
    "    ],\n",
    "    [\n",
    "        [31,32,33],\n",
    "        [34,35,36]\n",
    "    ]],\n",
    "    [[\n",
    "        [1,2,3],\n",
    "        [4,5,6]\n",
    "    ],\n",
    "    [\n",
    "        [11,12,13],\n",
    "        [14,15,16]\n",
    "    ],\n",
    "    [\n",
    "        [21,22,23],\n",
    "        [24,25,26]\n",
    "    ],\n",
    "    [\n",
    "        [31,32,33],\n",
    "        [34,35,36]\n",
    "    ]]\n",
    "])\n",
    "print(FourDTensor)"
   ]
  },
  {
   "cell_type": "markdown",
   "id": "92705b01-23a5-4f4e-8ef9-147ee16f35b1",
   "metadata": {},
   "source": [
    "# Casting"
   ]
  },
  {
   "cell_type": "code",
   "execution_count": 7,
   "id": "1e2bf6d0-0e0e-4a37-8818-ba53b2909371",
   "metadata": {},
   "outputs": [
    {
     "name": "stdout",
     "output_type": "stream",
     "text": [
      "tf.Tensor([10 -2 0 12 90], shape=(5,), dtype=bfloat16)\n",
      "tf.Tensor([10 -2  0 12 90], shape=(5,), dtype=int16)\n"
     ]
    }
   ],
   "source": [
    "var = tf.constant([10,-2,0,12,90],dtype=tf.bfloat16)\n",
    "castedVar = tf.cast(var,tf.int16)\n",
    "print(var)\n",
    "print(castedVar)"
   ]
  },
  {
   "cell_type": "markdown",
   "id": "468629ea-f457-48c3-955f-07a20147e47f",
   "metadata": {},
   "source": [
    "# Miscellaneous"
   ]
  },
  {
   "cell_type": "code",
   "execution_count": 8,
   "id": "bf7d0b2c-c8cf-48e5-b3f0-84720cdb8219",
   "metadata": {},
   "outputs": [
    {
     "name": "stdout",
     "output_type": "stream",
     "text": [
      "tf.Tensor(\n",
      "[[1. 0. 0.]\n",
      " [0. 1. 0.]\n",
      " [0. 0. 1.]], shape=(3, 3), dtype=float32)\n"
     ]
    }
   ],
   "source": [
    "identity = tf.eye(num_columns=3,num_rows=3)\n",
    "print(identity)"
   ]
  },
  {
   "cell_type": "code",
   "execution_count": 9,
   "id": "36c2d808-68ed-4b83-aa66-0751e95faa08",
   "metadata": {},
   "outputs": [
    {
     "name": "stdout",
     "output_type": "stream",
     "text": [
      "tf.Tensor(\n",
      "[[[1 1 1]\n",
      "  [1 1 1]]\n",
      "\n",
      " [[1 1 1]\n",
      "  [1 1 1]]\n",
      "\n",
      " [[1 1 1]\n",
      "  [1 1 1]]\n",
      "\n",
      " [[1 1 1]\n",
      "  [1 1 1]]], shape=(4, 2, 3), dtype=int32)\n"
     ]
    }
   ],
   "source": [
    "ones = tf.ones_like(ThreeDTensor)\n",
    "print(ones)"
   ]
  },
  {
   "cell_type": "code",
   "execution_count": 10,
   "id": "a9368b11-8631-4bc1-b8a2-838b2c2fc31d",
   "metadata": {},
   "outputs": [
    {
     "name": "stdout",
     "output_type": "stream",
     "text": [
      "tf.Tensor(\n",
      "[[[0 0 0]\n",
      "  [0 0 0]]\n",
      "\n",
      " [[0 0 0]\n",
      "  [0 0 0]]\n",
      "\n",
      " [[0 0 0]\n",
      "  [0 0 0]]\n",
      "\n",
      " [[0 0 0]\n",
      "  [0 0 0]]], shape=(4, 2, 3), dtype=int32)\n"
     ]
    }
   ],
   "source": [
    "zeroes = tf.zeros_like(ThreeDTensor)\n",
    "print(zeroes)"
   ]
  },
  {
   "cell_type": "code",
   "execution_count": 11,
   "id": "0b312a43-5be1-452a-bb14-9b9392b60e0f",
   "metadata": {},
   "outputs": [
    {
     "name": "stdout",
     "output_type": "stream",
     "text": [
      "tf.Tensor(\n",
      "[[9 9 9]\n",
      " [9 9 9]], shape=(2, 3), dtype=int32)\n"
     ]
    }
   ],
   "source": [
    "fill = tf.fill(TwoDTensor.shape,9)\n",
    "print(fill)"
   ]
  },
  {
   "cell_type": "code",
   "execution_count": 12,
   "id": "3097c9f3-90e8-402a-bb69-f3aa6d466ba7",
   "metadata": {},
   "outputs": [
    {
     "name": "stdout",
     "output_type": "stream",
     "text": [
      "tf.Tensor(4, shape=(), dtype=int32)\n"
     ]
    }
   ],
   "source": [
    "rank=tf.rank(FourDTensor)\n",
    "print(rank)"
   ]
  },
  {
   "cell_type": "code",
   "execution_count": 13,
   "id": "df48538b-e210-4b03-905b-032d9daf46d7",
   "metadata": {},
   "outputs": [
    {
     "name": "stdout",
     "output_type": "stream",
     "text": [
      "tf.Tensor(48, shape=(), dtype=int32)\n"
     ]
    }
   ],
   "source": [
    "size = tf.size(FourDTensor)\n",
    "print(size)"
   ]
  },
  {
   "cell_type": "markdown",
   "id": "5c4ba25d-ec36-4699-a803-5beaf40fa8bd",
   "metadata": {},
   "source": [
    "# Distribution"
   ]
  },
  {
   "cell_type": "code",
   "execution_count": 14,
   "id": "e28da8d7-676f-4153-b17a-cb8779d71291",
   "metadata": {},
   "outputs": [
    {
     "name": "stdout",
     "output_type": "stream",
     "text": [
      "tf.Tensor(\n",
      "[[-0.63051796]\n",
      " [ 2.1764154 ]\n",
      " [-2.1264904 ]\n",
      " [ 0.5772913 ]\n",
      " [ 0.66033584]\n",
      " [ 0.6296129 ]\n",
      " [ 0.64341503]\n",
      " [ 0.7289609 ]\n",
      " [-0.8571149 ]\n",
      " [ 0.29984972]], shape=(10, 1), dtype=float32)\n"
     ]
    }
   ],
   "source": [
    "normal = tf.random.normal([10,1],mean=0,stddev=1)\n",
    "print(normal)"
   ]
  },
  {
   "cell_type": "markdown",
   "id": "f09180de-5281-4ccf-87b1-4dcac1daf1d7",
   "metadata": {},
   "source": [
    "# Trigonametry"
   ]
  },
  {
   "cell_type": "code",
   "execution_count": 15,
   "id": "934df9cb-1edc-47fb-a204-66241c338369",
   "metadata": {},
   "outputs": [
    {
     "name": "stdout",
     "output_type": "stream",
     "text": [
      "tf.Tensor([0.0009675], shape=(1,), dtype=float16)\n"
     ]
    }
   ],
   "source": [
    "sin = tf.math.sin(tf.constant([3.1415],dtype=tf.float16))\n",
    "print(sin)"
   ]
  },
  {
   "cell_type": "markdown",
   "id": "19787fb8-e5d2-40a0-bac2-bd218b6f8036",
   "metadata": {},
   "source": [
    "# Padding"
   ]
  },
  {
   "cell_type": "code",
   "execution_count": 16,
   "id": "b842a206-7c3f-45b1-a6b4-c54e079b9ad8",
   "metadata": {},
   "outputs": [
    {
     "name": "stdout",
     "output_type": "stream",
     "text": [
      "tf.Tensor(\n",
      "[[11. 15.  9. 11.]\n",
      " [10.  9.  6.  5.]\n",
      " [ 9.  9. 10.  7.]\n",
      " [17.  8.  4. 10.]\n",
      " [ 9.  4.  9.  3.]], shape=(5, 4), dtype=float32)\n"
     ]
    }
   ],
   "source": [
    "img = tf.random.poisson([5,4],9)\n",
    "print(img)"
   ]
  },
  {
   "cell_type": "code",
   "execution_count": 17,
   "id": "e281b2b4-6f3b-4478-809d-e6daaf544554",
   "metadata": {},
   "outputs": [
    {
     "data": {
      "text/plain": [
       "<tf.Tensor: shape=(7, 6), dtype=float32, numpy=\n",
       "array([[ 0.,  0.,  0.,  0.,  0.,  0.],\n",
       "       [ 0., 11., 15.,  9., 11.,  0.],\n",
       "       [ 0., 10.,  9.,  6.,  5.,  0.],\n",
       "       [ 0.,  9.,  9., 10.,  7.,  0.],\n",
       "       [ 0., 17.,  8.,  4., 10.,  0.],\n",
       "       [ 0.,  9.,  4.,  9.,  3.,  0.],\n",
       "       [ 0.,  0.,  0.,  0.,  0.,  0.]], dtype=float32)>"
      ]
     },
     "execution_count": 17,
     "metadata": {},
     "output_type": "execute_result"
    }
   ],
   "source": [
    "tf.pad(img,paddings=tf.constant([[1,1],\n",
    "                                [1,1]]))"
   ]
  },
  {
   "cell_type": "markdown",
   "id": "865ad7a6-a749-4c19-b734-d64ef062c5d6",
   "metadata": {},
   "source": [
    "# Sparse"
   ]
  },
  {
   "cell_type": "code",
   "execution_count": 18,
   "id": "bffdb113-5f81-4b91-ad82-e53b214967c5",
   "metadata": {},
   "outputs": [],
   "source": [
    "sparse_tensor=tf.sparse.SparseTensor(\n",
    "    indices=[[1,1],[3,4]],\n",
    "    values=[23,89],\n",
    "    dense_shape=[5,6]\n",
    ")"
   ]
  },
  {
   "cell_type": "code",
   "execution_count": 19,
   "id": "1210c8a3-fb6c-42dc-a3ac-54a68c16cc05",
   "metadata": {},
   "outputs": [
    {
     "data": {
      "text/plain": [
       "<tf.Tensor: shape=(5, 6), dtype=int32, numpy=\n",
       "array([[ 0,  0,  0,  0,  0,  0],\n",
       "       [ 0, 23,  0,  0,  0,  0],\n",
       "       [ 0,  0,  0,  0,  0,  0],\n",
       "       [ 0,  0,  0,  0, 89,  0],\n",
       "       [ 0,  0,  0,  0,  0,  0]], dtype=int32)>"
      ]
     },
     "execution_count": 19,
     "metadata": {},
     "output_type": "execute_result"
    }
   ],
   "source": [
    "tf.sparse.to_dense(sparse_tensor)"
   ]
  },
  {
   "cell_type": "code",
   "execution_count": 21,
   "id": "6520010a-b56c-4c73-8cac-6ed0384bb7e4",
   "metadata": {},
   "outputs": [
    {
     "name": "stdout",
     "output_type": "stream",
     "text": [
      "tf.Tensor([b'hello' b'world'], shape=(2,), dtype=string)\n"
     ]
    }
   ],
   "source": [
    "string = tf.constant(['hello','world'])\n",
    "print(string)"
   ]
  },
  {
   "cell_type": "code",
   "execution_count": 25,
   "id": "2f06af98-a520-4569-ae99-4b2f7c02ba1f",
   "metadata": {},
   "outputs": [
    {
     "data": {
      "text/plain": [
       "<tf.Tensor: shape=(), dtype=string, numpy=b'hello _ world'>"
      ]
     },
     "execution_count": 25,
     "metadata": {},
     "output_type": "execute_result"
    }
   ],
   "source": [
    "tf.strings.join(string,separator=' _ ')"
   ]
  },
  {
   "cell_type": "code",
   "execution_count": 33,
   "id": "417f063d-73f0-42a0-8ee9-789854a97f6c",
   "metadata": {},
   "outputs": [
    {
     "data": {
      "text/plain": [
       "<tf.Variable 'tf_var:0' shape=(3,) dtype=int32, numpy=array([1, 2, 3], dtype=int32)>"
      ]
     },
     "execution_count": 33,
     "metadata": {},
     "output_type": "execute_result"
    }
   ],
   "source": [
    "X_var  = tf.Variable(Oned_tensor,name= 'tf_var')\n",
    "X_var"
   ]
  },
  {
   "cell_type": "code",
   "execution_count": 41,
   "id": "9411cc58-d233-407d-935b-d2ee9d129782",
   "metadata": {},
   "outputs": [
    {
     "data": {
      "text/plain": [
       "<tf.Variable 'UnreadVariable' shape=(3,) dtype=int32, numpy=array([7, 6, 5], dtype=int32)>"
      ]
     },
     "execution_count": 41,
     "metadata": {},
     "output_type": "execute_result"
    }
   ],
   "source": [
    "X_var.assign_add([3,2,1])"
   ]
  },
  {
   "cell_type": "code",
   "execution_count": 40,
   "id": "381420b0-dc8a-4ece-98b9-bd1c7761bed9",
   "metadata": {},
   "outputs": [
    {
     "data": {
      "text/plain": [
       "<tf.Variable 'tf_var:0' shape=(3,) dtype=int32, numpy=array([4, 4, 4], dtype=int32)>"
      ]
     },
     "execution_count": 40,
     "metadata": {},
     "output_type": "execute_result"
    }
   ],
   "source": [
    "X_var"
   ]
  },
  {
   "cell_type": "code",
   "execution_count": 60,
   "id": "e4dfafcc-106b-4816-bf89-4a3a6e87ea8d",
   "metadata": {},
   "outputs": [
    {
     "name": "stdout",
     "output_type": "stream",
     "text": [
      "2.17.0\n",
      "nvcc: NVIDIA (R) Cuda compiler driver\n",
      "Copyright (c) 2005-2023 NVIDIA Corporation\n",
      "Built on Wed_Nov_22_10:17:15_PST_2023\n",
      "Cuda compilation tools, release 12.3, V12.3.107\n",
      "Build cuda_12.3.r12.3/compiler.33567101_0\n",
      "cat: /usr/include/cudnn_version.h: No such file or directory\n",
      "Num GPUs Available:  1\n"
     ]
    }
   ],
   "source": [
    "import tensorflow as tf\n",
    "print(tf.__version__)\n",
    "!nvcc --version\n",
    "!cat /usr/include/cudnn_version.h | grep CUDNN_MAJOR -A 2\n",
    "import tensorflow as tf\n",
    "print(\"Num GPUs Available: \", len(tf.config.experimental.list_physical_devices('GPU')))"
   ]
  },
  {
   "cell_type": "code",
   "execution_count": 61,
   "id": "221c6192-dd74-4605-844d-14e8eece40b7",
   "metadata": {},
   "outputs": [
    {
     "name": "stdout",
     "output_type": "stream",
     "text": [
      "/job:localhost/replica:0/task:0/device:CPU:0\n"
     ]
    }
   ],
   "source": [
    "import os\n",
    "os.environ['TF_CPP_MIN_LOG_LEVEL'] = '0'\n",
    "import tensorflow as tf\n",
    "tf.debugging.set_log_device_placement(True)\n",
    "\n",
    "with tf.device('/GPU:0'):\n",
    "    a = tf.Variable(2)\n",
    "    print(a.device)"
   ]
  },
  {
   "cell_type": "code",
   "execution_count": null,
   "id": "13034d02-5363-4d9c-9a64-48e67c2fc6dd",
   "metadata": {},
   "outputs": [],
   "source": []
  }
 ],
 "metadata": {
  "kernelspec": {
   "display_name": "Python 3 (ipykernel)",
   "language": "python",
   "name": "python3"
  },
  "language_info": {
   "codemirror_mode": {
    "name": "ipython",
    "version": 3
   },
   "file_extension": ".py",
   "mimetype": "text/x-python",
   "name": "python",
   "nbconvert_exporter": "python",
   "pygments_lexer": "ipython3",
   "version": "3.11.0rc1"
  }
 },
 "nbformat": 4,
 "nbformat_minor": 5
}
