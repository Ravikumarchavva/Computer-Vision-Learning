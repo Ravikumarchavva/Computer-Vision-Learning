{
 "cells": [
  {
   "cell_type": "markdown",
   "id": "785322e6-838a-4e28-8c58-61ac2742b63f",
   "metadata": {},
   "source": [
    "# Data Loading"
   ]
  },
  {
   "cell_type": "code",
   "execution_count": 2,
   "id": "a66f00c3-60e8-4d5c-92da-86fd68bf490f",
   "metadata": {},
   "outputs": [],
   "source": [
    "import warnings\n",
    "warnings.filterwarnings('ignore')\n",
    "\n",
    "import tensorflow as tf\n",
    "from tensorflow import keras\n",
    "tf.random.set_seed(10)\n",
    "import matplotlib.pyplot as plt\n",
    "\n",
    "# Load the dataset\n",
    "import tensorflow_datasets as tfds\n",
    "dataset, dataset_info = tfds.load(name='malaria', shuffle_files=True, with_info=True, as_supervised=True, split=['train[:80%]', 'train[80%:90%]', 'train[90%:]'])"
   ]
  },
  {
   "cell_type": "code",
   "execution_count": null,
   "id": "a1d73530-3330-4ace-837b-aba3a8b7ca30",
   "metadata": {},
   "outputs": [],
   "source": []
  },
  {
   "cell_type": "markdown",
   "id": "769233ad-e758-4b10-8f10-6f3411c335f7",
   "metadata": {},
   "source": [
    "# Callbacks"
   ]
  },
  {
   "cell_type": "code",
   "execution_count": 4,
   "id": "ed5b4098-bd6b-4d57-bcdd-6ebf481cdeff",
   "metadata": {},
   "outputs": [],
   "source": [
    "from tensorflow.keras.callbacks import Callback,CSVLogger,EarlyStopping\n",
    "csv_logger = CSVLogger(\"renetLogs.csv\",separator=',',append=False)"
   ]
  },
  {
   "cell_type": "code",
   "execution_count": 5,
   "id": "4e705313-700f-4619-bed9-b1dc2a86f5ce",
   "metadata": {},
   "outputs": [],
   "source": [
    "es_callback = EarlyStopping(restore_best_weights=True,patience=2)"
   ]
  },
  {
   "cell_type": "code",
   "execution_count": 6,
   "id": "595f257d-29bb-4053-9e1a-0ceb87c0165a",
   "metadata": {},
   "outputs": [],
   "source": [
    "from tensorflow.keras.callbacks import LearningRateScheduler\n",
    "\n",
    "def scheduler(epoch, lr):\n",
    "    if epoch < 3:\n",
    "        return lr\n",
    "    else:\n",
    "        return float(lr * tf.math.exp(-0.1))\n",
    "\n",
    "sched = LearningRateScheduler(scheduler, verbose=1)"
   ]
  },
  {
   "cell_type": "code",
   "execution_count": 7,
   "id": "ad309ad2-0a5b-42ca-b7b8-2a466e4eaf8f",
   "metadata": {},
   "outputs": [],
   "source": [
    "# Preprocessing function\n",
    "def preprocess(image, label):\n",
    "    image = tf.image.resize(image, [224, 224])  # Resize images to 224x224\n",
    "    image = tf.cast(image, tf.float32)  # Convert images to float32\n",
    "    return image, label\n",
    "\n",
    "# Apply preprocessing\n",
    "train_dataset, valid_dataset, test_dataset = dataset\n",
    "\n",
    "train_dataset = train_dataset.map(preprocess)\n",
    "valid_dataset = valid_dataset.map(preprocess)\n",
    "test_dataset = test_dataset.map(preprocess)\n",
    "\n",
    "# Normalization function\n",
    "def normalise(image, label):\n",
    "    return image / 255.0, label\n",
    "\n",
    "# Apply normalization\n",
    "train_dataset = train_dataset.map(normalise)\n",
    "valid_dataset = valid_dataset.map(normalise)\n",
    "test_dataset = test_dataset.map(normalise)\n",
    "\n",
    "# Apply shuffling, batching, and prefetching\n",
    "train_dataset = train_dataset.shuffle(buffer_size=1024).batch(100).prefetch(tf.data.AUTOTUNE)\n",
    "valid_dataset = valid_dataset.batch(100).prefetch(tf.data.AUTOTUNE)\n",
    "test_dataset = test_dataset.batch(100).prefetch(tf.data.AUTOTUNE)"
   ]
  },
  {
   "cell_type": "markdown",
   "id": "24d97194-8bc0-460e-92db-7b90d10e7edb",
   "metadata": {},
   "source": [
    "# ResNet34"
   ]
  },
  {
   "cell_type": "code",
   "execution_count": null,
   "id": "8f0a0bf9-d528-4621-b0ff-9a0960ef6d35",
   "metadata": {},
   "outputs": [],
   "source": [
    "from keras.layers import Conv2D, MaxPooling2D, Dense, InputLayer, Flatten, BatchNormalization, GlobalAveragePooling2D\n",
    "from keras.models import Model\n",
    "class ResNet34(Model):\n",
    "    def __init__(self):\n",
    "        super(ResNet34,self).__init__(name=\"resent_34\")\n",
    "        self.conv_1 = CustomConv2D(64,7,2,padding='same')\n",
    "        self.max_pool = MaxPooling2D(3,2)\n",
    "\n",
    "        self.conv_2_1 = ResidualBlock(64)\n",
    "        self.conv_2_2 = ResidualBlock(64)\n",
    "        self.conv_2_3 = ResidualBlock(64)\n",
    "        \n",
    "        self.conv_3_1 = ResidualBlock(128,2)\n",
    "        self.conv_3_2 = ResidualBlock(128)\n",
    "        self.conv_3_3 = ResidualBlock(128)\n",
    "        self.conv_3_3 = ResidualBlock(128)\n",
    "        \n",
    "        self.conv_3_1 = ResidualBlock(256,2)\n",
    "        self.conv_3_2 = ResidualBlock(256)\n",
    "        self.conv_3_3 = ResidualBlock(256)\n",
    "        self.conv_3_3 = ResidualBlock(256)\n",
    "        \n",
    "        self.conv_3_1 = ResidualBlock(512,2)\n",
    "        self.conv_3_2 = ResidualBlock(512)\n",
    "        self.conv_3_3 = ResidualBlock(512)\n",
    "        self.conv_3_3 = ResidualBlock(512)\n",
    "\n",
    "        self.global_pool = GlobalAveragePooling2D()\n",
    "        self.fc_3 = Dense(2,activation='softmax')"
   ]
  }
 ],
 "metadata": {
  "kernelspec": {
   "display_name": "Python 3 (ipykernel)",
   "language": "python",
   "name": "python3"
  },
  "language_info": {
   "codemirror_mode": {
    "name": "ipython",
    "version": 3
   },
   "file_extension": ".py",
   "mimetype": "text/x-python",
   "name": "python",
   "nbconvert_exporter": "python",
   "pygments_lexer": "ipython3",
   "version": "3.11.0rc1"
  }
 },
 "nbformat": 4,
 "nbformat_minor": 5
}
